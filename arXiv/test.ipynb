{
 "cells": [
  {
   "cell_type": "code",
   "execution_count": 3,
   "source": [
    "#coding=utf-8\n",
    "import urllib.request\n",
    "import time\n",
    "from lxml import etree\n",
    "import sys,os\n",
    "import json\n",
    "import requests"
   ],
   "outputs": [],
   "metadata": {}
  },
  {
   "cell_type": "code",
   "execution_count": 4,
   "source": [
    "url = \"https://arxiv.paperswithcode.com/api/v0/repos-and-datasets/2105.11659\"\n",
    "response = requests.get(url)\n",
    "js = json.loads(response.text)\n",
    "if js['code']['official'] != None:\n",
    "    print(js['code']['official'])"
   ],
   "outputs": [],
   "metadata": {}
  }
 ],
 "metadata": {
  "orig_nbformat": 4,
  "language_info": {
   "name": "python",
   "version": "3.7.0",
   "mimetype": "text/x-python",
   "codemirror_mode": {
    "name": "ipython",
    "version": 3
   },
   "pygments_lexer": "ipython3",
   "nbconvert_exporter": "python",
   "file_extension": ".py"
  },
  "kernelspec": {
   "name": "python3",
   "display_name": "Python 3.7.0 64-bit ('base': conda)"
  },
  "interpreter": {
   "hash": "bab189b37dd5fa0d4a23761bb312daa1303be248688e803f0cf835a0d7c57799"
  }
 },
 "nbformat": 4,
 "nbformat_minor": 2
}